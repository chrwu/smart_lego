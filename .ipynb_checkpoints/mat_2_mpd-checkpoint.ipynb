{
 "cells": [
  {
   "cell_type": "code",
   "execution_count": 1,
   "metadata": {
    "collapsed": true
   },
   "outputs": [],
   "source": [
    "import numpy as np\n",
    "import scipy as sp\n",
    "import scipy.io as sio\n"
   ]
  },
  {
   "cell_type": "markdown",
   "metadata": {},
   "source": [
    "# Ball\n",
    "\n",
    "[\n",
    "\n",
    "    [\n",
    "        [0, 0, 1, 1, 0, 0],\n",
    "        [0, 1, 1, 1, 1, 0],\n",
    "        [1, 1, 1, 1, 1, 1],\n",
    "        [1, 1, 1, 1, 1, 1],\n",
    "        [0, 1, 1, 1, 1, 0],\n",
    "        [0, 0, 1, 1, 0, 0]\n",
    "    ],\n",
    "    \n",
    "    [\n",
    "        [0, 1, 1, 1, 1, 0],\n",
    "        [1, 1, 2, 2, 1, 1],\n",
    "        [1, 2, 2, 2, 2, 1],\n",
    "        [1, 2, 2, 2, 2, 1],\n",
    "        [1, 1, 2, 2, 1, 1],\n",
    "        [0, 1, 1, 1, 1, 0]\n",
    "    ],\n",
    "    \n",
    "    [\n",
    "        [1, 1, 1, 1, 1, 1],\n",
    "        [1, 2, 2, 2, 2, 1],\n",
    "        [1, 2, 2, 2, 2, 1],\n",
    "        [1, 2, 2, 2, 2, 1],\n",
    "        [1, 2, 2, 2, 2, 1],\n",
    "        [1, 1, 1, 1, 1, 1]\n",
    "    ],\n",
    "\n",
    "    [\n",
    "        [1, 1, 1, 1, 1, 1],\n",
    "        [1, 2, 2, 2, 2, 1],\n",
    "        [1, 2, 2, 2, 2, 1],\n",
    "        [1, 2, 2, 2, 2, 1],\n",
    "        [1, 2, 2, 2, 2, 1],\n",
    "        [1, 1, 1, 1, 1, 1]\n",
    "    ],\n",
    "\n",
    "    [\n",
    "        [0, 1, 1, 1, 1, 0],\n",
    "        [1, 1, 2, 2, 1, 1],\n",
    "        [1, 2, 2, 2, 2, 1],\n",
    "        [1, 2, 2, 2, 2, 1],\n",
    "        [1, 1, 2, 2, 1, 1],\n",
    "        [0, 1, 1, 1, 1, 0]\n",
    "    ],\n",
    "\n",
    "    [\n",
    "        [0, 0, 1, 1, 0, 0],\n",
    "        [0, 1, 1, 1, 1, 0],\n",
    "        [1, 1, 1, 1, 1, 1],\n",
    "        [1, 1, 1, 1, 1, 1],\n",
    "        [0, 1, 1, 1, 1, 0],\n",
    "        [0, 0, 1, 1, 0, 0]\n",
    "    ]\n",
    "]"
   ]
  },
  {
   "cell_type": "code",
   "execution_count": 2,
   "metadata": {
    "collapsed": true
   },
   "outputs": [],
   "source": [
    "# sio.savemat('ball.mat', {'ball': ball})"
   ]
  },
  {
   "cell_type": "code",
   "execution_count": 3,
   "metadata": {
    "collapsed": true
   },
   "outputs": [],
   "source": [
    "lego_mat_ball = sio.loadmat('./data/ball.mat')['ball']"
   ]
  },
  {
   "cell_type": "code",
   "execution_count": 4,
   "metadata": {
    "collapsed": true
   },
   "outputs": [],
   "source": [
    "nz, nx, ny = lego_mat_ball.shape"
   ]
  },
  {
   "cell_type": "code",
   "execution_count": null,
   "metadata": {
    "collapsed": true
   },
   "outputs": [],
   "source": []
  },
  {
   "cell_type": "code",
   "execution_count": 5,
   "metadata": {
    "collapsed": true
   },
   "outputs": [],
   "source": [
    "def get_coordinate(idx):\n",
    "    depth, width, height = -20, -20, -24\n",
    "    return (depth * (idx[0] + 1), width * (idx[1] + 1), height * (idx[2] + 1))\n",
    "\n",
    "def get_cid_by_oid(mat_lego, oid):\n",
    "    return map(lambda idx: get_coordinate(idx), list(zip(*np.where(mat_lego == oid))))"
   ]
  },
  {
   "cell_type": "code",
   "execution_count": 6,
   "metadata": {
    "collapsed": true
   },
   "outputs": [],
   "source": [
    "import codecs"
   ]
  },
  {
   "cell_type": "code",
   "execution_count": 7,
   "metadata": {
    "collapsed": true
   },
   "outputs": [],
   "source": [
    "# TODO: color map: http://www.ldraw.org/article/547.html#colour_chart\n",
    "\n",
    "def mat2mpd(mat_lego, filename, is_surface=False):\n",
    "    solid_id = 2\n",
    "    surface_id = 1\n",
    "    mpd_line_type = '1'\n",
    "    mpd_color_id = '4'\n",
    "    str_identity = ' '.join([str(int(i)) for i in list(np.eye(3).reshape(1, 9)[0])])\n",
    "    brick_name = '3005.DAT'\n",
    "    \n",
    "    with codecs.open(filename, 'w') as fp:\n",
    "        for zi, xi, yi in get_cid_by_oid(mat_lego, solid_id):\n",
    "            zc, xc, yc = str(zi), str(xi), str(yi)\n",
    "            mpd_data_line = ' '.join([mpd_line_type, str(4), xc, yc, zc, str_identity, brick_name]) + \"\\n\"\n",
    "            fp.write(mpd_data_line)\n",
    "            \n",
    "        if is_surface:\n",
    "            for zi, xi, yi in get_cid_by_oid(mat_lego, surface_id):\n",
    "                zc, xc, yc = str(zi), str(xi), str(yi)\n",
    "                mpd_data_line = ' '.join([mpd_line_type, str(117), xc, yc, zc, str_identity, brick_name]) + \"\\n\"\n",
    "                fp.write(mpd_data_line)\n",
    "\n",
    "\n"
   ]
  },
  {
   "cell_type": "code",
   "execution_count": 8,
   "metadata": {
    "collapsed": true
   },
   "outputs": [],
   "source": [
    "mat2mpd(lego_mat_ball, 'myball.mpd')"
   ]
  },
  {
   "cell_type": "code",
   "execution_count": null,
   "metadata": {
    "collapsed": true
   },
   "outputs": [],
   "source": []
  },
  {
   "cell_type": "code",
   "execution_count": null,
   "metadata": {
    "collapsed": true
   },
   "outputs": [],
   "source": []
  },
  {
   "cell_type": "code",
   "execution_count": null,
   "metadata": {
    "collapsed": true
   },
   "outputs": [],
   "source": []
  },
  {
   "cell_type": "code",
   "execution_count": null,
   "metadata": {
    "collapsed": true
   },
   "outputs": [],
   "source": []
  }
 ],
 "metadata": {
  "kernelspec": {
   "display_name": "Python 3",
   "language": "python",
   "name": "python3"
  },
  "language_info": {
   "codemirror_mode": {
    "name": "ipython",
    "version": 3
   },
   "file_extension": ".py",
   "mimetype": "text/x-python",
   "name": "python",
   "nbconvert_exporter": "python",
   "pygments_lexer": "ipython3",
   "version": "3.6.1"
  }
 },
 "nbformat": 4,
 "nbformat_minor": 2
}
